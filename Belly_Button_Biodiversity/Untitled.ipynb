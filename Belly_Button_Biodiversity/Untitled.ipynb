{
 "cells": [
  {
   "cell_type": "code",
   "execution_count": 1,
   "metadata": {},
   "outputs": [],
   "source": [
    "import pandas as pd\n"
   ]
  },
  {
   "cell_type": "code",
   "execution_count": 14,
   "metadata": {},
   "outputs": [],
   "source": [
    "metadata = pd.read_csv('code/static/data/belly_button_metadata.csv')"
   ]
  },
  {
   "cell_type": "code",
   "execution_count": 15,
   "metadata": {},
   "outputs": [],
   "source": [
    "bbdata = pd.read_csv('code/static/data/belly_button_data.csv')"
   ]
  },
  {
   "cell_type": "code",
   "execution_count": null,
   "metadata": {},
   "outputs": [],
   "source": []
  },
  {
   "cell_type": "code",
   "execution_count": null,
   "metadata": {},
   "outputs": [],
   "source": []
  },
  {
   "cell_type": "code",
   "execution_count": null,
   "metadata": {},
   "outputs": [],
   "source": []
  },
  {
   "cell_type": "code",
   "execution_count": null,
   "metadata": {},
   "outputs": [],
   "source": []
  },
  {
   "cell_type": "code",
   "execution_count": 5,
   "metadata": {},
   "outputs": [
    {
     "data": {
      "text/plain": [
       "Index(['sample', 'EVENT', 'ETHNICITY', 'GENDER', 'AGE', 'WFREQ', 'BBTYPE',\n",
       "       'LOCATION', 'COUNTRY012', 'ZIP012', 'COUNTRY1319', 'ZIP1319', 'DOG',\n",
       "       'CAT', 'IMPSURFACE013', 'NPP013', 'MMAXTEMP013', 'PFC013',\n",
       "       'IMPSURFACE1319', 'NPP1319', 'MMAXTEMP1319', 'PFC1319'],\n",
       "      dtype='object')"
      ]
     },
     "execution_count": 5,
     "metadata": {},
     "output_type": "execute_result"
    }
   ],
   "source": [
    "metadata.columns"
   ]
  },
  {
   "cell_type": "code",
   "execution_count": 6,
   "metadata": {},
   "outputs": [
    {
     "data": {
      "text/html": [
       "<div>\n",
       "<style scoped>\n",
       "    .dataframe tbody tr th:only-of-type {\n",
       "        vertical-align: middle;\n",
       "    }\n",
       "\n",
       "    .dataframe tbody tr th {\n",
       "        vertical-align: top;\n",
       "    }\n",
       "\n",
       "    .dataframe thead th {\n",
       "        text-align: right;\n",
       "    }\n",
       "</style>\n",
       "<table border=\"1\" class=\"dataframe\">\n",
       "  <thead>\n",
       "    <tr style=\"text-align: right;\">\n",
       "      <th></th>\n",
       "      <th>sample</th>\n",
       "      <th>EVENT</th>\n",
       "      <th>ETHNICITY</th>\n",
       "      <th>GENDER</th>\n",
       "      <th>AGE</th>\n",
       "      <th>WFREQ</th>\n",
       "      <th>BBTYPE</th>\n",
       "      <th>LOCATION</th>\n",
       "      <th>COUNTRY012</th>\n",
       "      <th>ZIP012</th>\n",
       "      <th>...</th>\n",
       "      <th>DOG</th>\n",
       "      <th>CAT</th>\n",
       "      <th>IMPSURFACE013</th>\n",
       "      <th>NPP013</th>\n",
       "      <th>MMAXTEMP013</th>\n",
       "      <th>PFC013</th>\n",
       "      <th>IMPSURFACE1319</th>\n",
       "      <th>NPP1319</th>\n",
       "      <th>MMAXTEMP1319</th>\n",
       "      <th>PFC1319</th>\n",
       "    </tr>\n",
       "  </thead>\n",
       "  <tbody>\n",
       "    <tr>\n",
       "      <th>0</th>\n",
       "      <td>940</td>\n",
       "      <td>BellyButtonsScienceOnline</td>\n",
       "      <td>Caucasian</td>\n",
       "      <td>F</td>\n",
       "      <td>24.0</td>\n",
       "      <td>2.0</td>\n",
       "      <td>I</td>\n",
       "      <td>Beaufort/NC</td>\n",
       "      <td>usa</td>\n",
       "      <td>22306</td>\n",
       "      <td>...</td>\n",
       "      <td>no</td>\n",
       "      <td>no</td>\n",
       "      <td>8852.0</td>\n",
       "      <td>37.172222</td>\n",
       "      <td>54.5</td>\n",
       "      <td>NaN</td>\n",
       "      <td>1</td>\n",
       "      <td>NaN</td>\n",
       "      <td>33.990002</td>\n",
       "      <td>25.5</td>\n",
       "    </tr>\n",
       "    <tr>\n",
       "      <th>1</th>\n",
       "      <td>941</td>\n",
       "      <td>NaN</td>\n",
       "      <td>Caucasian/Midleastern</td>\n",
       "      <td>F</td>\n",
       "      <td>34.0</td>\n",
       "      <td>1.0</td>\n",
       "      <td>I</td>\n",
       "      <td>Chicago/IL</td>\n",
       "      <td>NaN</td>\n",
       "      <td>NaN</td>\n",
       "      <td>...</td>\n",
       "      <td>NaN</td>\n",
       "      <td>NaN</td>\n",
       "      <td>NaN</td>\n",
       "      <td>NaN</td>\n",
       "      <td>NaN</td>\n",
       "      <td>NaN</td>\n",
       "      <td>NaN</td>\n",
       "      <td>NaN</td>\n",
       "      <td>NaN</td>\n",
       "      <td>NaN</td>\n",
       "    </tr>\n",
       "    <tr>\n",
       "      <th>2</th>\n",
       "      <td>943</td>\n",
       "      <td>BellyButtonsScienceOnline</td>\n",
       "      <td>Caucasian</td>\n",
       "      <td>F</td>\n",
       "      <td>49.0</td>\n",
       "      <td>1.0</td>\n",
       "      <td>I</td>\n",
       "      <td>Omaha/NE</td>\n",
       "      <td>NaN</td>\n",
       "      <td>NaN</td>\n",
       "      <td>...</td>\n",
       "      <td>NaN</td>\n",
       "      <td>NaN</td>\n",
       "      <td>NaN</td>\n",
       "      <td>NaN</td>\n",
       "      <td>NaN</td>\n",
       "      <td>NaN</td>\n",
       "      <td>NaN</td>\n",
       "      <td>NaN</td>\n",
       "      <td>NaN</td>\n",
       "      <td>NaN</td>\n",
       "    </tr>\n",
       "    <tr>\n",
       "      <th>3</th>\n",
       "      <td>944</td>\n",
       "      <td>BellyButtonsScienceOnline</td>\n",
       "      <td>European</td>\n",
       "      <td>M</td>\n",
       "      <td>44.0</td>\n",
       "      <td>1.0</td>\n",
       "      <td>I</td>\n",
       "      <td>NewHaven/CT</td>\n",
       "      <td>usa</td>\n",
       "      <td>7079</td>\n",
       "      <td>...</td>\n",
       "      <td>no</td>\n",
       "      <td>yes</td>\n",
       "      <td>NaN</td>\n",
       "      <td>35.816666</td>\n",
       "      <td>16.0</td>\n",
       "      <td>NaN</td>\n",
       "      <td>0</td>\n",
       "      <td>6567.0</td>\n",
       "      <td>32.403332</td>\n",
       "      <td>28.5</td>\n",
       "    </tr>\n",
       "    <tr>\n",
       "      <th>4</th>\n",
       "      <td>945</td>\n",
       "      <td>BellyButtonsScienceOnline</td>\n",
       "      <td>Caucasian</td>\n",
       "      <td>F</td>\n",
       "      <td>48.0</td>\n",
       "      <td>1.0</td>\n",
       "      <td>I</td>\n",
       "      <td>Philidelphia/PA</td>\n",
       "      <td>usa</td>\n",
       "      <td>84404</td>\n",
       "      <td>...</td>\n",
       "      <td>no</td>\n",
       "      <td>no</td>\n",
       "      <td>NaN</td>\n",
       "      <td>37.783333</td>\n",
       "      <td>4.0</td>\n",
       "      <td>NaN</td>\n",
       "      <td>0</td>\n",
       "      <td>5613.0</td>\n",
       "      <td>33.634445</td>\n",
       "      <td>24.0</td>\n",
       "    </tr>\n",
       "  </tbody>\n",
       "</table>\n",
       "<p>5 rows × 22 columns</p>\n",
       "</div>"
      ],
      "text/plain": [
       "   sample                      EVENT              ETHNICITY GENDER   AGE  \\\n",
       "0     940  BellyButtonsScienceOnline              Caucasian      F  24.0   \n",
       "1     941                        NaN  Caucasian/Midleastern      F  34.0   \n",
       "2     943  BellyButtonsScienceOnline              Caucasian      F  49.0   \n",
       "3     944  BellyButtonsScienceOnline               European      M  44.0   \n",
       "4     945  BellyButtonsScienceOnline              Caucasian      F  48.0   \n",
       "\n",
       "   WFREQ BBTYPE         LOCATION COUNTRY012 ZIP012  ...  DOG  CAT  \\\n",
       "0    2.0      I      Beaufort/NC        usa  22306  ...   no   no   \n",
       "1    1.0      I       Chicago/IL        NaN    NaN  ...  NaN  NaN   \n",
       "2    1.0      I         Omaha/NE        NaN    NaN  ...  NaN  NaN   \n",
       "3    1.0      I      NewHaven/CT        usa   7079  ...   no  yes   \n",
       "4    1.0      I  Philidelphia/PA        usa  84404  ...   no   no   \n",
       "\n",
       "  IMPSURFACE013     NPP013  MMAXTEMP013  PFC013  IMPSURFACE1319  NPP1319  \\\n",
       "0        8852.0  37.172222         54.5     NaN               1      NaN   \n",
       "1           NaN        NaN          NaN     NaN             NaN      NaN   \n",
       "2           NaN        NaN          NaN     NaN             NaN      NaN   \n",
       "3           NaN  35.816666         16.0     NaN               0   6567.0   \n",
       "4           NaN  37.783333          4.0     NaN               0   5613.0   \n",
       "\n",
       "  MMAXTEMP1319  PFC1319  \n",
       "0    33.990002     25.5  \n",
       "1          NaN      NaN  \n",
       "2          NaN      NaN  \n",
       "3    32.403332     28.5  \n",
       "4    33.634445     24.0  \n",
       "\n",
       "[5 rows x 22 columns]"
      ]
     },
     "execution_count": 6,
     "metadata": {},
     "output_type": "execute_result"
    }
   ],
   "source": [
    "metadata.head()"
   ]
  },
  {
   "cell_type": "code",
   "execution_count": 8,
   "metadata": {},
   "outputs": [
    {
     "name": "stdout",
     "output_type": "stream",
     "text": [
      "<class 'pandas.core.frame.DataFrame'>\n",
      "RangeIndex: 153 entries, 0 to 152\n",
      "Data columns (total 22 columns):\n",
      "sample            153 non-null int64\n",
      "EVENT             152 non-null object\n",
      "ETHNICITY         149 non-null object\n",
      "GENDER            152 non-null object\n",
      "AGE               150 non-null float64\n",
      "WFREQ             138 non-null float64\n",
      "BBTYPE            142 non-null object\n",
      "LOCATION          126 non-null object\n",
      "COUNTRY012        87 non-null object\n",
      "ZIP012            85 non-null object\n",
      "COUNTRY1319       81 non-null object\n",
      "ZIP1319           79 non-null object\n",
      "DOG               86 non-null object\n",
      "CAT               86 non-null object\n",
      "IMPSURFACE013     44 non-null float64\n",
      "NPP013            80 non-null float64\n",
      "MMAXTEMP013       80 non-null float64\n",
      "PFC013            0 non-null float64\n",
      "IMPSURFACE1319    78 non-null object\n",
      "NPP1319           43 non-null float64\n",
      "MMAXTEMP1319      75 non-null float64\n",
      "PFC1319           74 non-null float64\n",
      "dtypes: float64(9), int64(1), object(12)\n",
      "memory usage: 26.4+ KB\n"
     ]
    }
   ],
   "source": [
    "metadata.info()"
   ]
  },
  {
   "cell_type": "code",
   "execution_count": 12,
   "metadata": {},
   "outputs": [
    {
     "data": {
      "text/html": [
       "<div>\n",
       "<style scoped>\n",
       "    .dataframe tbody tr th:only-of-type {\n",
       "        vertical-align: middle;\n",
       "    }\n",
       "\n",
       "    .dataframe tbody tr th {\n",
       "        vertical-align: top;\n",
       "    }\n",
       "\n",
       "    .dataframe thead th {\n",
       "        text-align: right;\n",
       "    }\n",
       "</style>\n",
       "<table border=\"1\" class=\"dataframe\">\n",
       "  <thead>\n",
       "    <tr style=\"text-align: right;\">\n",
       "      <th></th>\n",
       "      <th>sample</th>\n",
       "      <th>EVENT</th>\n",
       "      <th>ETHNICITY</th>\n",
       "      <th>GENDER</th>\n",
       "      <th>AGE</th>\n",
       "      <th>WFREQ</th>\n",
       "      <th>BBTYPE</th>\n",
       "      <th>LOCATION</th>\n",
       "      <th>COUNTRY012</th>\n",
       "      <th>ZIP012</th>\n",
       "      <th>...</th>\n",
       "      <th>DOG</th>\n",
       "      <th>CAT</th>\n",
       "      <th>IMPSURFACE013</th>\n",
       "      <th>NPP013</th>\n",
       "      <th>MMAXTEMP013</th>\n",
       "      <th>PFC013</th>\n",
       "      <th>IMPSURFACE1319</th>\n",
       "      <th>NPP1319</th>\n",
       "      <th>MMAXTEMP1319</th>\n",
       "      <th>PFC1319</th>\n",
       "    </tr>\n",
       "  </thead>\n",
       "  <tbody>\n",
       "    <tr>\n",
       "      <th>0</th>\n",
       "      <td>940</td>\n",
       "      <td>BellyButtonsScienceOnline</td>\n",
       "      <td>Caucasian</td>\n",
       "      <td>F</td>\n",
       "      <td>24.0</td>\n",
       "      <td>2.0</td>\n",
       "      <td>I</td>\n",
       "      <td>Beaufort/NC</td>\n",
       "      <td>usa</td>\n",
       "      <td>22306</td>\n",
       "      <td>...</td>\n",
       "      <td>no</td>\n",
       "      <td>no</td>\n",
       "      <td>8852.0</td>\n",
       "      <td>37.172222</td>\n",
       "      <td>54.5</td>\n",
       "      <td>NaN</td>\n",
       "      <td>1</td>\n",
       "      <td>NaN</td>\n",
       "      <td>33.990002</td>\n",
       "      <td>25.5</td>\n",
       "    </tr>\n",
       "  </tbody>\n",
       "</table>\n",
       "<p>1 rows × 22 columns</p>\n",
       "</div>"
      ],
      "text/plain": [
       "   sample                      EVENT  ETHNICITY GENDER   AGE  WFREQ BBTYPE  \\\n",
       "0     940  BellyButtonsScienceOnline  Caucasian      F  24.0    2.0      I   \n",
       "\n",
       "      LOCATION COUNTRY012 ZIP012  ... DOG CAT IMPSURFACE013     NPP013  \\\n",
       "0  Beaufort/NC        usa  22306  ...  no  no        8852.0  37.172222   \n",
       "\n",
       "   MMAXTEMP013  PFC013  IMPSURFACE1319  NPP1319 MMAXTEMP1319  PFC1319  \n",
       "0         54.5     NaN               1      NaN    33.990002     25.5  \n",
       "\n",
       "[1 rows x 22 columns]"
      ]
     },
     "execution_count": 12,
     "metadata": {},
     "output_type": "execute_result"
    }
   ],
   "source": [
    "metadata[metadata['sample'] == 940]"
   ]
  },
  {
   "cell_type": "code",
   "execution_count": 16,
   "metadata": {},
   "outputs": [
    {
     "data": {
      "text/plain": [
       "Index(['otu_id', 'otu_label', '940', '941', '943', '944', '945', '946', '947',\n",
       "       '948',\n",
       "       ...\n",
       "       '1562', '1563', '1564', '1572', '1573', '1574', '1576', '1577', '1581',\n",
       "       '1601'],\n",
       "      dtype='object', length=155)"
      ]
     },
     "execution_count": 16,
     "metadata": {},
     "output_type": "execute_result"
    }
   ],
   "source": [
    "bbdata.columns"
   ]
  },
  {
   "cell_type": "code",
   "execution_count": 21,
   "metadata": {},
   "outputs": [
    {
     "data": {
      "text/plain": [
       "(3663, 155)"
      ]
     },
     "execution_count": 21,
     "metadata": {},
     "output_type": "execute_result"
    }
   ],
   "source": [
    "bbdata.shape"
   ]
  },
  {
   "cell_type": "code",
   "execution_count": 31,
   "metadata": {},
   "outputs": [
    {
     "data": {
      "text/plain": [
       "1437"
      ]
     },
     "execution_count": 31,
     "metadata": {},
     "output_type": "execute_result"
    }
   ],
   "source": [
    "bbdata['940'].sum()"
   ]
  },
  {
   "cell_type": "code",
   "execution_count": 32,
   "metadata": {},
   "outputs": [
    {
     "data": {
      "text/plain": [
       "0.3923013923013923"
      ]
     },
     "execution_count": 32,
     "metadata": {},
     "output_type": "execute_result"
    }
   ],
   "source": [
    "bbdata['940'].mean()"
   ]
  },
  {
   "cell_type": "code",
   "execution_count": 41,
   "metadata": {},
   "outputs": [
    {
     "name": "stderr",
     "output_type": "stream",
     "text": [
      "/home/jmpichar/.local/lib/python3.6/site-packages/ipykernel_launcher.py:1: SettingWithCopyWarning: \n",
      "A value is trying to be set on a copy of a slice from a DataFrame\n",
      "\n",
      "See the caveats in the documentation: http://pandas.pydata.org/pandas-docs/stable/indexing.html#indexing-view-versus-copy\n",
      "  \"\"\"Entry point for launching an IPython kernel.\n"
     ]
    }
   ],
   "source": [
    "bbdata[['otu_id','otu_label','940']].sort_values(by='940',ascending = False,inplace=True)\n"
   ]
  },
  {
   "cell_type": "code",
   "execution_count": 40,
   "metadata": {},
   "outputs": [
    {
     "data": {
      "text/html": [
       "<div>\n",
       "<style scoped>\n",
       "    .dataframe tbody tr th:only-of-type {\n",
       "        vertical-align: middle;\n",
       "    }\n",
       "\n",
       "    .dataframe tbody tr th {\n",
       "        vertical-align: top;\n",
       "    }\n",
       "\n",
       "    .dataframe thead th {\n",
       "        text-align: right;\n",
       "    }\n",
       "</style>\n",
       "<table border=\"1\" class=\"dataframe\">\n",
       "  <thead>\n",
       "    <tr style=\"text-align: right;\">\n",
       "      <th></th>\n",
       "      <th>otu_id</th>\n",
       "      <th>otu_label</th>\n",
       "      <th>940</th>\n",
       "      <th>941</th>\n",
       "      <th>943</th>\n",
       "      <th>944</th>\n",
       "      <th>945</th>\n",
       "      <th>946</th>\n",
       "      <th>947</th>\n",
       "      <th>948</th>\n",
       "      <th>...</th>\n",
       "      <th>1562</th>\n",
       "      <th>1563</th>\n",
       "      <th>1564</th>\n",
       "      <th>1572</th>\n",
       "      <th>1573</th>\n",
       "      <th>1574</th>\n",
       "      <th>1576</th>\n",
       "      <th>1577</th>\n",
       "      <th>1581</th>\n",
       "      <th>1601</th>\n",
       "    </tr>\n",
       "  </thead>\n",
       "  <tbody>\n",
       "    <tr>\n",
       "      <th>0</th>\n",
       "      <td>1</td>\n",
       "      <td>Archaea;Euryarchaeota;Halobacteria;Halobacteri...</td>\n",
       "      <td>0</td>\n",
       "      <td>0</td>\n",
       "      <td>0</td>\n",
       "      <td>0</td>\n",
       "      <td>0</td>\n",
       "      <td>0</td>\n",
       "      <td>0</td>\n",
       "      <td>0.0</td>\n",
       "      <td>...</td>\n",
       "      <td>0</td>\n",
       "      <td>0</td>\n",
       "      <td>0</td>\n",
       "      <td>0</td>\n",
       "      <td>0</td>\n",
       "      <td>0</td>\n",
       "      <td>0</td>\n",
       "      <td>0</td>\n",
       "      <td>0</td>\n",
       "      <td>0</td>\n",
       "    </tr>\n",
       "    <tr>\n",
       "      <th>1</th>\n",
       "      <td>2</td>\n",
       "      <td>Archaea;Euryarchaeota;Halobacteria;Halobacteri...</td>\n",
       "      <td>0</td>\n",
       "      <td>0</td>\n",
       "      <td>0</td>\n",
       "      <td>0</td>\n",
       "      <td>0</td>\n",
       "      <td>0</td>\n",
       "      <td>0</td>\n",
       "      <td>0.0</td>\n",
       "      <td>...</td>\n",
       "      <td>0</td>\n",
       "      <td>0</td>\n",
       "      <td>0</td>\n",
       "      <td>0</td>\n",
       "      <td>0</td>\n",
       "      <td>0</td>\n",
       "      <td>0</td>\n",
       "      <td>0</td>\n",
       "      <td>0</td>\n",
       "      <td>0</td>\n",
       "    </tr>\n",
       "    <tr>\n",
       "      <th>2</th>\n",
       "      <td>3</td>\n",
       "      <td>Archaea;Euryarchaeota;Halobacteria;Halobacteri...</td>\n",
       "      <td>0</td>\n",
       "      <td>0</td>\n",
       "      <td>0</td>\n",
       "      <td>0</td>\n",
       "      <td>0</td>\n",
       "      <td>0</td>\n",
       "      <td>0</td>\n",
       "      <td>0.0</td>\n",
       "      <td>...</td>\n",
       "      <td>0</td>\n",
       "      <td>0</td>\n",
       "      <td>0</td>\n",
       "      <td>0</td>\n",
       "      <td>0</td>\n",
       "      <td>0</td>\n",
       "      <td>0</td>\n",
       "      <td>0</td>\n",
       "      <td>0</td>\n",
       "      <td>0</td>\n",
       "    </tr>\n",
       "    <tr>\n",
       "      <th>3</th>\n",
       "      <td>4</td>\n",
       "      <td>Archaea;Euryarchaeota;Methanobacteria;Methanob...</td>\n",
       "      <td>0</td>\n",
       "      <td>0</td>\n",
       "      <td>0</td>\n",
       "      <td>0</td>\n",
       "      <td>0</td>\n",
       "      <td>0</td>\n",
       "      <td>0</td>\n",
       "      <td>0.0</td>\n",
       "      <td>...</td>\n",
       "      <td>0</td>\n",
       "      <td>0</td>\n",
       "      <td>0</td>\n",
       "      <td>0</td>\n",
       "      <td>0</td>\n",
       "      <td>0</td>\n",
       "      <td>0</td>\n",
       "      <td>0</td>\n",
       "      <td>0</td>\n",
       "      <td>0</td>\n",
       "    </tr>\n",
       "    <tr>\n",
       "      <th>4</th>\n",
       "      <td>5</td>\n",
       "      <td>Archaea;Euryarchaeota;Methanobacteria;Methanob...</td>\n",
       "      <td>0</td>\n",
       "      <td>0</td>\n",
       "      <td>0</td>\n",
       "      <td>0</td>\n",
       "      <td>0</td>\n",
       "      <td>0</td>\n",
       "      <td>0</td>\n",
       "      <td>0.0</td>\n",
       "      <td>...</td>\n",
       "      <td>0</td>\n",
       "      <td>0</td>\n",
       "      <td>0</td>\n",
       "      <td>0</td>\n",
       "      <td>0</td>\n",
       "      <td>0</td>\n",
       "      <td>0</td>\n",
       "      <td>0</td>\n",
       "      <td>0</td>\n",
       "      <td>0</td>\n",
       "    </tr>\n",
       "  </tbody>\n",
       "</table>\n",
       "<p>5 rows × 155 columns</p>\n",
       "</div>"
      ],
      "text/plain": [
       "   otu_id                                          otu_label  940  941  943  \\\n",
       "0       1  Archaea;Euryarchaeota;Halobacteria;Halobacteri...    0    0    0   \n",
       "1       2  Archaea;Euryarchaeota;Halobacteria;Halobacteri...    0    0    0   \n",
       "2       3  Archaea;Euryarchaeota;Halobacteria;Halobacteri...    0    0    0   \n",
       "3       4  Archaea;Euryarchaeota;Methanobacteria;Methanob...    0    0    0   \n",
       "4       5  Archaea;Euryarchaeota;Methanobacteria;Methanob...    0    0    0   \n",
       "\n",
       "   944  945  946  947  948  ...  1562  1563  1564  1572  1573  1574  1576  \\\n",
       "0    0    0    0    0  0.0  ...     0     0     0     0     0     0     0   \n",
       "1    0    0    0    0  0.0  ...     0     0     0     0     0     0     0   \n",
       "2    0    0    0    0  0.0  ...     0     0     0     0     0     0     0   \n",
       "3    0    0    0    0  0.0  ...     0     0     0     0     0     0     0   \n",
       "4    0    0    0    0  0.0  ...     0     0     0     0     0     0     0   \n",
       "\n",
       "   1577  1581  1601  \n",
       "0     0     0     0  \n",
       "1     0     0     0  \n",
       "2     0     0     0  \n",
       "3     0     0     0  \n",
       "4     0     0     0  \n",
       "\n",
       "[5 rows x 155 columns]"
      ]
     },
     "execution_count": 40,
     "metadata": {},
     "output_type": "execute_result"
    }
   ],
   "source": [
    "bbdata.head()"
   ]
  },
  {
   "cell_type": "code",
   "execution_count": null,
   "metadata": {},
   "outputs": [],
   "source": []
  },
  {
   "cell_type": "code",
   "execution_count": null,
   "metadata": {},
   "outputs": [],
   "source": []
  },
  {
   "cell_type": "code",
   "execution_count": null,
   "metadata": {},
   "outputs": [],
   "source": []
  }
 ],
 "metadata": {
  "kernelspec": {
   "display_name": "Python 3",
   "language": "python",
   "name": "python3"
  },
  "language_info": {
   "codemirror_mode": {
    "name": "ipython",
    "version": 3
   },
   "file_extension": ".py",
   "mimetype": "text/x-python",
   "name": "python",
   "nbconvert_exporter": "python",
   "pygments_lexer": "ipython3",
   "version": "3.6.5"
  }
 },
 "nbformat": 4,
 "nbformat_minor": 2
}
